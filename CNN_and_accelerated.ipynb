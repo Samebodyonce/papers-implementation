{
  "nbformat": 4,
  "nbformat_minor": 0,
  "metadata": {
    "colab": {
      "provenance": [],
      "gpuType": "T4"
    },
    "kernelspec": {
      "name": "python3",
      "display_name": "Python 3"
    },
    "language_info": {
      "name": "python"
    },
    "accelerator": "GPU"
  },
  "cells": [
    {
      "cell_type": "code",
      "execution_count": null,
      "metadata": {
        "colab": {
          "base_uri": "https://localhost:8080/"
        },
        "id": "YKtHnx379rnZ",
        "outputId": "320c263c-b491-42a8-c951-0275dd944131"
      },
      "outputs": [
        {
          "output_type": "stream",
          "name": "stdout",
          "text": [
            "Using device: cuda:0\n"
          ]
        }
      ],
      "source": [
        "import torch\n",
        "import torch.nn as nn\n",
        "import torch.nn.functional as F\n",
        "import torch.optim as optim\n",
        "import torchvision\n",
        "import torchvision.transforms as transforms\n",
        "from torch.utils.data import DataLoader\n",
        "import time\n",
        "\n",
        "device = torch.device(\"cuda:0\" if torch.cuda.is_available() else \"cpu\")\n",
        "print(f'Using device: {device}')"
      ]
    },
    {
      "cell_type": "code",
      "source": [
        "class BasicCNN(nn.Module):\n",
        "    def __init__(self):\n",
        "        super(BasicCNN, self).__init__()\n",
        "        self.conv1 = nn.Conv2d(3, 16, kernel_size=3, padding=1)\n",
        "        self.conv2 = nn.Conv2d(16, 32, kernel_size=3, padding=1)\n",
        "        self.fc1 = nn.Linear(32 * 8 * 8, 120)\n",
        "        self.fc2 = nn.Linear(120, 10)\n",
        "\n",
        "    def forward(self, x):\n",
        "        x = F.relu(self.conv1(x))\n",
        "        x = F.max_pool2d(x, 2)\n",
        "        x = F.relu(self.conv2(x))\n",
        "        x = F.max_pool2d(x, 2)\n",
        "        x = x.view(-1, 32 * 8 * 8)\n",
        "        x = F.relu(self.fc1(x))\n",
        "        x = self.fc2(x)\n",
        "        return x\n",
        "\n",
        "class AcceleratedCNN(nn.Module):\n",
        "    def __init__(self):\n",
        "        super(AcceleratedCNN, self).__init__()\n",
        "        self.conv1 = nn.Conv2d(3, 8, kernel_size=3, padding=1)\n",
        "        self.conv2 = nn.Conv2d(8, 16, kernel_size=3, padding=1)\n",
        "        self.pool = nn.MaxPool2d(2, 2)\n",
        "        self.fc1 = nn.Linear(16 * 8 * 8, 120)\n",
        "        self.fc2 = nn.Linear(120, 10)\n",
        "\n",
        "    def forward(self, x):\n",
        "        x = self.pool(F.relu(self.conv1(x)))\n",
        "        x = self.pool(F.relu(self.conv2(x)))\n",
        "        x = x.view(-1, 16 * 8 * 8)\n",
        "        x = F.relu(self.fc1(x))\n",
        "        x = self.fc2(x)\n",
        "        return x"
      ],
      "metadata": {
        "id": "MpJRJa4J9ziE"
      },
      "execution_count": null,
      "outputs": []
    },
    {
      "cell_type": "code",
      "source": [
        "transform = transforms.Compose([\n",
        "    transforms.ToTensor(),\n",
        "    transforms.Normalize((0.5, 0.5, 0.5), (0.5, 0.5, 0.5))\n",
        "])\n",
        "\n",
        "trainset = torchvision.datasets.CIFAR10(root='./data', train=True, download=True, transform=transform)\n",
        "trainloader = DataLoader(trainset, batch_size=4, shuffle=True, num_workers=2)\n",
        "\n",
        "testset = torchvision.datasets.CIFAR10(root='./data', train=False, download=True, transform=transform)\n",
        "testloader = DataLoader(testset, batch_size=4, shuffle=False, num_workers=2)"
      ],
      "metadata": {
        "colab": {
          "base_uri": "https://localhost:8080/"
        },
        "id": "klIpVKhl98Rp",
        "outputId": "16000684-9b61-42ad-d52d-ea0aaa2cd6b0"
      },
      "execution_count": null,
      "outputs": [
        {
          "output_type": "stream",
          "name": "stdout",
          "text": [
            "Downloading https://www.cs.toronto.edu/~kriz/cifar-10-python.tar.gz to ./data/cifar-10-python.tar.gz\n"
          ]
        },
        {
          "output_type": "stream",
          "name": "stderr",
          "text": [
            "100%|██████████| 170498071/170498071 [00:02<00:00, 62796729.54it/s]\n"
          ]
        },
        {
          "output_type": "stream",
          "name": "stdout",
          "text": [
            "Extracting ./data/cifar-10-python.tar.gz to ./data\n",
            "Files already downloaded and verified\n"
          ]
        }
      ]
    },
    {
      "cell_type": "code",
      "source": [
        "def train_model(model, trainloader, epochs=10):\n",
        "    criterion = nn.CrossEntropyLoss()\n",
        "    optimizer = optim.SGD(model.parameters(), lr=0.001, momentum=0.9)\n",
        "\n",
        "    start_time = time.time()\n",
        "\n",
        "    for epoch in range(epochs):\n",
        "        running_loss = 0.0\n",
        "        for i, data in enumerate(trainloader, 0):\n",
        "            inputs, labels = data\n",
        "            inputs, labels = inputs.to(device), labels.to(device)\n",
        "            optimizer.zero_grad()\n",
        "            outputs = model(inputs)\n",
        "            loss = criterion(outputs, labels)\n",
        "            loss.backward()\n",
        "            optimizer.step()\n",
        "            running_loss += loss.item()\n",
        "\n",
        "            if i % 2000 == 1999:\n",
        "                print(f'[{epoch + 1}, {i + 1}] loss: {running_loss / 2000:.3f}')\n",
        "                running_loss = 0.0\n",
        "    end_time = time.time()\n",
        "    print('Finished Training')\n",
        "    print(f'Training took {end_time - start_time:.2f} seconds')"
      ],
      "metadata": {
        "id": "ynr-lU2O9-If"
      },
      "execution_count": null,
      "outputs": []
    },
    {
      "cell_type": "code",
      "source": [
        "def test_model(model, testloader):\n",
        "    correct = 0\n",
        "    total = 0\n",
        "    start_time = time.time()\n",
        "    with torch.no_grad():\n",
        "        for data in testloader:\n",
        "            images, labels = data\n",
        "            images, labels = images.to(device), labels.to(device)\n",
        "            outputs = model(images)\n",
        "            _, predicted = torch.max(outputs.data, 1)\n",
        "            total += labels.size(0)\n",
        "            correct += (predicted == labels).sum().item()\n",
        "    end_time = time.time()\n",
        "    print(f'Accuracy of the model on the 10000 test images: {100 * correct / total} %')\n",
        "    print(f'Testing took {end_time - start_time:.2f} seconds')"
      ],
      "metadata": {
        "id": "uggcQsMb-Bct"
      },
      "execution_count": null,
      "outputs": []
    },
    {
      "cell_type": "code",
      "source": [
        "basic_model = BasicCNN().to(device)\n",
        "train_model(basic_model, trainloader)\n",
        "test_model(basic_model, testloader)"
      ],
      "metadata": {
        "colab": {
          "base_uri": "https://localhost:8080/"
        },
        "id": "f3KPpDJ9-E64",
        "outputId": "455bc7c5-34eb-462b-b9b7-5a30caee196e"
      },
      "execution_count": null,
      "outputs": [
        {
          "output_type": "stream",
          "name": "stdout",
          "text": [
            "[1, 2000] loss: 2.010\n",
            "[1, 4000] loss: 1.626\n",
            "[1, 6000] loss: 1.440\n",
            "[1, 8000] loss: 1.336\n",
            "[1, 10000] loss: 1.284\n",
            "[1, 12000] loss: 1.188\n",
            "[2, 2000] loss: 1.098\n",
            "[2, 4000] loss: 1.064\n",
            "[2, 6000] loss: 1.072\n",
            "[2, 8000] loss: 1.050\n",
            "[2, 10000] loss: 1.008\n",
            "[2, 12000] loss: 0.991\n",
            "[3, 2000] loss: 0.893\n",
            "[3, 4000] loss: 0.875\n",
            "[3, 6000] loss: 0.880\n",
            "[3, 8000] loss: 0.884\n",
            "[3, 10000] loss: 0.871\n",
            "[3, 12000] loss: 0.861\n",
            "[4, 2000] loss: 0.734\n",
            "[4, 4000] loss: 0.755\n",
            "[4, 6000] loss: 0.752\n",
            "[4, 8000] loss: 0.757\n",
            "[4, 10000] loss: 0.744\n",
            "[4, 12000] loss: 0.774\n",
            "[5, 2000] loss: 0.599\n",
            "[5, 4000] loss: 0.617\n",
            "[5, 6000] loss: 0.633\n",
            "[5, 8000] loss: 0.632\n",
            "[5, 10000] loss: 0.660\n",
            "[5, 12000] loss: 0.685\n",
            "[6, 2000] loss: 0.478\n",
            "[6, 4000] loss: 0.532\n",
            "[6, 6000] loss: 0.553\n",
            "[6, 8000] loss: 0.542\n",
            "[6, 10000] loss: 0.574\n",
            "[6, 12000] loss: 0.579\n",
            "[7, 2000] loss: 0.390\n",
            "[7, 4000] loss: 0.417\n",
            "[7, 6000] loss: 0.452\n",
            "[7, 8000] loss: 0.470\n",
            "[7, 10000] loss: 0.487\n",
            "[7, 12000] loss: 0.504\n",
            "[8, 2000] loss: 0.332\n",
            "[8, 4000] loss: 0.338\n",
            "[8, 6000] loss: 0.372\n",
            "[8, 8000] loss: 0.404\n",
            "[8, 10000] loss: 0.393\n",
            "[8, 12000] loss: 0.438\n",
            "[9, 2000] loss: 0.256\n",
            "[9, 4000] loss: 0.280\n",
            "[9, 6000] loss: 0.312\n",
            "[9, 8000] loss: 0.347\n",
            "[9, 10000] loss: 0.346\n",
            "[9, 12000] loss: 0.339\n",
            "[10, 2000] loss: 0.210\n",
            "[10, 4000] loss: 0.227\n",
            "[10, 6000] loss: 0.254\n",
            "[10, 8000] loss: 0.271\n",
            "[10, 10000] loss: 0.297\n",
            "[10, 12000] loss: 0.336\n",
            "Finished Training\n",
            "Training took 498.38 seconds\n",
            "Accuracy of the model on the 10000 test images: 67.47 %\n",
            "Testing took 7.34 seconds\n"
          ]
        }
      ]
    },
    {
      "cell_type": "code",
      "source": [
        "accel_model = AcceleratedCNN().to(device)\n",
        "train_model(accel_model, trainloader)\n",
        "test_model(accel_model, testloader)"
      ],
      "metadata": {
        "colab": {
          "base_uri": "https://localhost:8080/"
        },
        "id": "QRdl-sF6-GVC",
        "outputId": "9c1ba202-19d9-45fb-a8bd-741733a7ce95"
      },
      "execution_count": null,
      "outputs": [
        {
          "output_type": "stream",
          "name": "stdout",
          "text": [
            "[1, 2000] loss: 2.005\n",
            "[1, 4000] loss: 1.632\n",
            "[1, 6000] loss: 1.492\n",
            "[1, 8000] loss: 1.430\n",
            "[1, 10000] loss: 1.377\n",
            "[1, 12000] loss: 1.310\n",
            "[2, 2000] loss: 1.222\n",
            "[2, 4000] loss: 1.175\n",
            "[2, 6000] loss: 1.157\n",
            "[2, 8000] loss: 1.132\n",
            "[2, 10000] loss: 1.134\n",
            "[2, 12000] loss: 1.086\n",
            "[3, 2000] loss: 0.998\n",
            "[3, 4000] loss: 1.006\n",
            "[3, 6000] loss: 1.005\n",
            "[3, 8000] loss: 1.003\n",
            "[3, 10000] loss: 0.983\n",
            "[3, 12000] loss: 0.972\n",
            "[4, 2000] loss: 0.856\n",
            "[4, 4000] loss: 0.876\n",
            "[4, 6000] loss: 0.882\n",
            "[4, 8000] loss: 0.906\n",
            "[4, 10000] loss: 0.896\n",
            "[4, 12000] loss: 0.913\n",
            "[5, 2000] loss: 0.776\n",
            "[5, 4000] loss: 0.795\n",
            "[5, 6000] loss: 0.798\n",
            "[5, 8000] loss: 0.798\n",
            "[5, 10000] loss: 0.795\n",
            "[5, 12000] loss: 0.828\n",
            "[6, 2000] loss: 0.672\n",
            "[6, 4000] loss: 0.709\n",
            "[6, 6000] loss: 0.702\n",
            "[6, 8000] loss: 0.735\n",
            "[6, 10000] loss: 0.743\n",
            "[6, 12000] loss: 0.780\n",
            "[7, 2000] loss: 0.610\n",
            "[7, 4000] loss: 0.625\n",
            "[7, 6000] loss: 0.657\n",
            "[7, 8000] loss: 0.671\n",
            "[7, 10000] loss: 0.700\n",
            "[7, 12000] loss: 0.693\n",
            "[8, 2000] loss: 0.515\n",
            "[8, 4000] loss: 0.571\n",
            "[8, 6000] loss: 0.598\n",
            "[8, 8000] loss: 0.618\n",
            "[8, 10000] loss: 0.628\n",
            "[8, 12000] loss: 0.661\n",
            "[9, 2000] loss: 0.462\n",
            "[9, 4000] loss: 0.507\n",
            "[9, 6000] loss: 0.540\n",
            "[9, 8000] loss: 0.578\n",
            "[9, 10000] loss: 0.580\n",
            "[9, 12000] loss: 0.587\n",
            "[10, 2000] loss: 0.414\n",
            "[10, 4000] loss: 0.460\n",
            "[10, 6000] loss: 0.484\n",
            "[10, 8000] loss: 0.514\n",
            "[10, 10000] loss: 0.529\n",
            "[10, 12000] loss: 0.568\n",
            "Finished Training\n",
            "Training took 495.96 seconds\n",
            "Accuracy of the model on the 10000 test images: 64.19 %\n",
            "Testing took 7.31 seconds\n"
          ]
        }
      ]
    },
    {
      "cell_type": "code",
      "source": [],
      "metadata": {
        "id": "IbVen0EfFvL2"
      },
      "execution_count": null,
      "outputs": []
    }
  ]
}